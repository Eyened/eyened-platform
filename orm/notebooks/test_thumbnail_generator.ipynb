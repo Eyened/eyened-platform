{
 "cells": [
  {
   "cell_type": "code",
   "execution_count": null,
   "metadata": {},
   "outputs": [],
   "source": [
    "from eyened_orm import ImageInstance,  Database\n",
    "from sqlalchemy import select, func\n",
    "from random import sample\n",
    "from eyened_orm.importer.thumbnails import get_thumbnail"
   ]
  },
  {
   "cell_type": "code",
   "execution_count": null,
   "metadata": {},
   "outputs": [],
   "source": [
    "database = Database('../../dev/.env')\n",
    "session = database.create_session()"
   ]
  },
  {
   "cell_type": "code",
   "execution_count": null,
   "metadata": {},
   "outputs": [],
   "source": [
    "images = session.scalars(select(ImageInstance).order_by(func.random()).limit(2000)).all()"
   ]
  },
  {
   "cell_type": "code",
   "execution_count": null,
   "metadata": {},
   "outputs": [],
   "source": [
    "images_binary = [im for im in images if im.path.suffix == \".binary\"]\n",
    "images_dicom = [im for im in images if im.path.suffix == \".dcm\"]\n",
    "images_png = [im for im in images if im.path.suffix == \".png\"]"
   ]
  },
  {
   "cell_type": "code",
   "execution_count": null,
   "metadata": {},
   "outputs": [],
   "source": [
    "def plot(ims_sample):\n",
    "    import numpy as np\n",
    "\n",
    "    import matplotlib.pyplot as plt\n",
    "    \n",
    "    fig, axs = plt.subplots(2, 4, figsize=(15, 8))\n",
    "    axs = axs.flatten()\n",
    "\n",
    "    for i, (im) in enumerate(ims_sample):\n",
    "        print(im.ImageInstanceID, im.path)\n",
    "        img = get_thumbnail(im)\n",
    "        if img is not None:\n",
    "            if img.ndim == 3:\n",
    "                axs[i].imshow(img)\n",
    "            else:\n",
    "                axs[i].imshow(img, cmap=\"gray\")\n",
    "            \n",
    "        axs[i].set_title(f\"ID: {im.ImageInstanceID}\")\n",
    "        axs[i].axis('off')\n",
    "\n",
    "    plt.tight_layout()\n",
    "    plt.show()"
   ]
  },
  {
   "cell_type": "code",
   "execution_count": null,
   "metadata": {},
   "outputs": [],
   "source": [
    "ims_sample = sample(images_png, 8)\n",
    "plot(ims_sample)"
   ]
  },
  {
   "cell_type": "code",
   "execution_count": null,
   "metadata": {},
   "outputs": [],
   "source": [
    "ims_sample = sample(images_dicom, 8)\n",
    "plot(ims_sample)"
   ]
  },
  {
   "cell_type": "code",
   "execution_count": null,
   "metadata": {},
   "outputs": [],
   "source": [
    "ims_sample = sample(images_binary, 8)\n",
    "plot(ims_sample)"
   ]
  }
 ],
 "metadata": {
  "kernelspec": {
   "display_name": ".venv",
   "language": "python",
   "name": "python3"
  },
  "language_info": {
   "codemirror_mode": {
    "name": "ipython",
    "version": 3
   },
   "file_extension": ".py",
   "mimetype": "text/x-python",
   "name": "python",
   "nbconvert_exporter": "python",
   "pygments_lexer": "ipython3",
   "version": "3.12.2"
  }
 },
 "nbformat": 4,
 "nbformat_minor": 2
}
