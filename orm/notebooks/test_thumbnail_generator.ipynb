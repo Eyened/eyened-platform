{
 "cells": [
  {
   "cell_type": "code",
   "execution_count": 1,
   "metadata": {},
   "outputs": [],
   "source": [
    "import os\n",
    "from random import sample\n",
    "import pandas as pd\n",
    "from eyened_orm import ImageInstance, SourceInfo, DBManager\n",
    "from eyened_orm.utils import get_config\n",
    "\n",
    "# from rtnls_fundusprep.preprocessor import FundusPreprocessor\n",
    "# from rtnls_fundusprep.utils import preprocess_for_inference\n",
    "from sqlalchemy import select, func\n",
    "from tqdm.notebook import tqdm\n",
    "import pydicom\n",
    "from pathlib import Path"
   ]
  },
  {
   "cell_type": "code",
   "execution_count": 3,
   "metadata": {},
   "outputs": [
    {
     "ename": "ImportError",
     "evalue": "cannot import name 'get_thumbnail' from 'eyened_orm.importer.thumbnails' (/home/jeroen/Git/eyened-platform/orm/eyened_orm/importer/thumbnails.py)",
     "output_type": "error",
     "traceback": [
      "\u001b[0;31m---------------------------------------------------------------------------\u001b[0m",
      "\u001b[0;31mImportError\u001b[0m                               Traceback (most recent call last)",
      "Cell \u001b[0;32mIn[3], line 5\u001b[0m\n\u001b[1;32m      3\u001b[0m \u001b[38;5;28;01mimport\u001b[39;00m\u001b[38;5;250m \u001b[39m\u001b[38;5;21;01mnumpy\u001b[39;00m\u001b[38;5;250m \u001b[39m\u001b[38;5;28;01mas\u001b[39;00m\u001b[38;5;250m \u001b[39m\u001b[38;5;21;01mnp\u001b[39;00m\n\u001b[1;32m      4\u001b[0m \u001b[38;5;28;01mimport\u001b[39;00m\u001b[38;5;250m \u001b[39m\u001b[38;5;21;01mcv2\u001b[39;00m\n\u001b[0;32m----> 5\u001b[0m \u001b[38;5;28;01mfrom\u001b[39;00m\u001b[38;5;250m \u001b[39m\u001b[38;5;21;01meyened_orm\u001b[39;00m\u001b[38;5;21;01m.\u001b[39;00m\u001b[38;5;21;01mimporter\u001b[39;00m\u001b[38;5;21;01m.\u001b[39;00m\u001b[38;5;21;01mthumbnails\u001b[39;00m\u001b[38;5;250m \u001b[39m\u001b[38;5;28;01mimport\u001b[39;00m get_thumbnail, save_thumbnails\n",
      "\u001b[0;31mImportError\u001b[0m: cannot import name 'get_thumbnail' from 'eyened_orm.importer.thumbnails' (/home/jeroen/Git/eyened-platform/orm/eyened_orm/importer/thumbnails.py)"
     ]
    }
   ],
   "source": [
    "from random import sample\n",
    "from PIL import Image\n",
    "import numpy as np\n",
    "import cv2\n",
    "from eyened_orm.importer.thumbnails import get_thumbnail, save_thumbnails"
   ]
  },
  {
   "cell_type": "code",
   "execution_count": 3,
   "metadata": {},
   "outputs": [],
   "source": [
    "config = get_config(\"prod\")\n",
    "DBManager.init(config)\n",
    "session = DBManager.get_session()"
   ]
  },
  {
   "cell_type": "code",
   "execution_count": 4,
   "metadata": {},
   "outputs": [],
   "source": [
    "\n",
    "stmt = select(ImageInstance).where(ImageInstance.DatasetIdentifier.like(f\"%.binary\"))\n",
    "images = session.execute(stmt).scalars().all()"
   ]
  },
  {
   "cell_type": "code",
   "execution_count": 4,
   "metadata": {},
   "outputs": [],
   "source": [
    "images = session.execute(select(ImageInstance).order_by(func.random()).limit(2000)).scalars().all()"
   ]
  },
  {
   "cell_type": "code",
   "execution_count": 5,
   "metadata": {},
   "outputs": [],
   "source": [
    "images_binary = [im for im in images if im.path.endswith(\".binary\")]\n",
    "images_dicom = [im for im in images if im.path.endswith(\".dcm\")]\n",
    "images_png = [im for im in images if im.path.endswith(\".png\")]"
   ]
  },
  {
   "cell_type": "code",
   "execution_count": 6,
   "metadata": {},
   "outputs": [],
   "source": [
    "def plot(ims_sample):\n",
    "    import numpy as np\n",
    "\n",
    "    import matplotlib.pyplot as plt\n",
    "    \n",
    "    fig, axs = plt.subplots(2, 4, figsize=(15, 8))\n",
    "    axs = axs.flatten()\n",
    "\n",
    "    for i, (im) in enumerate(ims_sample):\n",
    "        print(im.ImageInstanceID, im.path)\n",
    "        # try:\n",
    "        # Use the read_thumbnail function defined earlier to get the image\n",
    "        if im.path.endswith(\".json\"):\n",
    "            continue\n",
    "        img = get_thumbnail(im)\n",
    "        # print(img)\n",
    "        if img is not None:\n",
    "            if img.ndim == 3:\n",
    "                axs[i].imshow(img)\n",
    "            else:\n",
    "                axs[i].imshow(img, cmap=\"gray\")\n",
    "        # except Exception as e:\n",
    "            # print(f'Error: {str(e)}')\n",
    "        \n",
    "        axs[i].set_title(f\"ID: {im.ImageInstanceID}\")\n",
    "        axs[i].axis('off')\n",
    "\n",
    "    plt.tight_layout()\n",
    "    plt.show()"
   ]
  },
  {
   "cell_type": "code",
   "execution_count": null,
   "metadata": {},
   "outputs": [],
   "source": [
    "ims_sample = sample(images_png, 8)\n",
    "plot(ims_sample)"
   ]
  },
  {
   "cell_type": "code",
   "execution_count": null,
   "metadata": {},
   "outputs": [],
   "source": [
    "ims_sample = sample(images_dicom, 8)\n",
    "plot(ims_sample)"
   ]
  },
  {
   "cell_type": "code",
   "execution_count": null,
   "metadata": {},
   "outputs": [],
   "source": [
    "ims_sample = sample(images_binary, 8)\n",
    "plot(ims_sample)"
   ]
  },
  {
   "cell_type": "code",
   "execution_count": null,
   "metadata": {},
   "outputs": [],
   "source": []
  }
 ],
 "metadata": {
  "kernelspec": {
   "display_name": "Python 3",
   "language": "python",
   "name": "python3"
  },
  "language_info": {
   "codemirror_mode": {
    "name": "ipython",
    "version": 3
   },
   "file_extension": ".py",
   "mimetype": "text/x-python",
   "name": "python",
   "nbconvert_exporter": "python",
   "pygments_lexer": "ipython3",
   "version": "3.10.5"
  }
 },
 "nbformat": 4,
 "nbformat_minor": 2
}
