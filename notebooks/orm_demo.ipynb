{
 "cells": [
  {
   "cell_type": "code",
   "execution_count": 1,
   "metadata": {},
   "outputs": [],
   "source": [
    "from random import sample\n",
    "import pandas as pd\n",
    "from eyened_orm import (\n",
    "    ImageInstance,\n",
    "    Modality,\n",
    "    Laterality,\n",
    "    Patient,\n",
    "    Project,\n",
    "    Series,\n",
    "    Study,\n",
    "    DBManager\n",
    ")\n",
    "from eyened_orm.utils import get_config\n",
    "# from rtnls_fundusprep.preprocessor import FundusPreprocessor\n",
    "# from rtnls_fundusprep.utils import preprocess_for_inference\n",
    "from sqlalchemy import select"
   ]
  },
  {
   "cell_type": "code",
   "execution_count": 2,
   "metadata": {},
   "outputs": [],
   "source": [
    "config = get_config(\"ENVIRONMENT\")\n",
    "# set to the name of the environment file\n",
    "# see: https://eyened.github.io/eyened-platform/orm/configuration/\n",
    "DBManager.init(config)"
   ]
  },
  {
   "cell_type": "code",
   "execution_count": 2,
   "metadata": {},
   "outputs": [],
   "source": [
    "\n",
    "with DBManager.yield_session() as session:\n",
    "    images = (\n",
    "        session.execute(\n",
    "            select(ImageInstance).where(\n",
    "                (ImageInstance.Modality == Modality.ColorFundus)\n",
    "                & (ImageInstance.Laterality == Laterality.R)\n",
    "            )\n",
    "        )\n",
    "        .scalars()\n",
    "        .all()\n",
    "    )"
   ]
  },
  {
   "cell_type": "code",
   "execution_count": null,
   "metadata": {},
   "outputs": [],
   "source": [
    "for image in images[:5]:\n",
    "    print(image.path)"
   ]
  },
  {
   "cell_type": "code",
   "execution_count": null,
   "metadata": {},
   "outputs": [],
   "source": []
  },
  {
   "cell_type": "code",
   "execution_count": null,
   "metadata": {},
   "outputs": [],
   "source": []
  }
 ],
 "metadata": {
  "kernelspec": {
   "display_name": "viewer",
   "language": "python",
   "name": "python3"
  },
  "language_info": {
   "codemirror_mode": {
    "name": "ipython",
    "version": 3
   },
   "file_extension": ".py",
   "mimetype": "text/x-python",
   "name": "python",
   "nbconvert_exporter": "python",
   "pygments_lexer": "ipython3",
   "version": "3.11.11"
  }
 },
 "nbformat": 4,
 "nbformat_minor": 2
}
