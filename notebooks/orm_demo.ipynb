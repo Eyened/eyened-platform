{
 "cells": [
  {
   "cell_type": "code",
   "execution_count": 1,
   "metadata": {},
   "outputs": [],
   "source": [
    "from random import sample\n",
    "import pandas as pd\n",
    "from eyened_orm import (\n",
    "    ImageInstance,\n",
    "    Modality,\n",
    "    Laterality,\n",
    "    Patient,\n",
    "    Project,\n",
    "    Series,\n",
    "    Study,\n",
    "    DBManager\n",
    ")\n",
    "from eyened_orm.utils import get_config\n",
    "# from rtnls_fundusprep.preprocessor import FundusPreprocessor\n",
    "# from rtnls_fundusprep.utils import preprocess_for_inference\n",
    "from sqlalchemy import select"
   ]
  },
  {
   "cell_type": "code",
   "execution_count": 2,
   "metadata": {},
   "outputs": [],
   "source": [
    "config = get_config(\"prod\")\n",
    "DBManager.init(config)\n",
    "with DBManager.yield_session() as session:\n",
    "    images = (\n",
    "        session.execute(\n",
    "            select(ImageInstance).where(\n",
    "                (ImageInstance.Modality == Modality.ColorFundus)\n",
    "                & (ImageInstance.Laterality == Laterality.R)\n",
    "            )\n",
    "        )\n",
    "        .scalars()\n",
    "        .all()\n",
    "    )"
   ]
  },
  {
   "cell_type": "code",
   "execution_count": 3,
   "metadata": {},
   "outputs": [
    {
     "name": "stdout",
     "output_type": "stream",
     "text": [
      "/mnt/oogergo/ergo/OCT_ERGO/OCT_prd/035384a9-a0e4-4931-adb6-2f9446b5e41c/0.png\n",
      "/mnt/oogergo/ergo/OCT_ERGO/OCT_prd/035384a9-a0e4-4931-adb6-2f9446b5e41c/5.png\n",
      "/mnt/oogergo/ergo/OCT_ERGO/OCT_prd/09c82007-cfe0-4652-8e99-481d793e938b/6.png\n",
      "/mnt/oogergo/ergo/OCT_ERGO/OCT_prd/09c82007-cfe0-4652-8e99-481d793e938b/7.png\n",
      "/mnt/oogergo/ergo/OCT_ERGO/OCT_prd/09c82007-cfe0-4652-8e99-481d793e938b/9.png\n"
     ]
    }
   ],
   "source": [
    "for image in images[:5]:\n",
    "    print(image.path)"
   ]
  },
  {
   "cell_type": "code",
   "execution_count": 5,
   "metadata": {},
   "outputs": [
    {
     "ename": "AttributeError",
     "evalue": "type object 'ImageInstance' has no attribute 'peek'",
     "output_type": "error",
     "traceback": [
      "\u001b[0;31m---------------------------------------------------------------------------\u001b[0m",
      "\u001b[0;31mAttributeError\u001b[0m                            Traceback (most recent call last)",
      "Cell \u001b[0;32mIn[5], line 1\u001b[0m\n\u001b[0;32m----> 1\u001b[0m \u001b[43mImageInstance\u001b[49m\u001b[38;5;241;43m.\u001b[39;49m\u001b[43mpeek\u001b[49m(sample(images, \u001b[38;5;241m8\u001b[39m))\n",
      "\u001b[0;31mAttributeError\u001b[0m: type object 'ImageInstance' has no attribute 'peek'"
     ]
    }
   ],
   "source": [
    "ImageInstance.peek(sample(images, 8))"
   ]
  },
  {
   "cell_type": "code",
   "execution_count": null,
   "metadata": {},
   "outputs": [],
   "source": []
  },
  {
   "cell_type": "code",
   "execution_count": null,
   "metadata": {},
   "outputs": [],
   "source": []
  }
 ],
 "metadata": {
  "kernelspec": {
   "display_name": "viewer",
   "language": "python",
   "name": "python3"
  },
  "language_info": {
   "codemirror_mode": {
    "name": "ipython",
    "version": 3
   },
   "file_extension": ".py",
   "mimetype": "text/x-python",
   "name": "python",
   "nbconvert_exporter": "python",
   "pygments_lexer": "ipython3",
   "version": "3.11.11"
  }
 },
 "nbformat": 4,
 "nbformat_minor": 2
}
