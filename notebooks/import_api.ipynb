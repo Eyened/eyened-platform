{
 "cells": [
  {
   "cell_type": "markdown",
   "metadata": {},
   "source": [
    "# HRFAV Fundus Dataset - Single Image Import\n",
    "\n",
    "This notebook demonstrates how to import images one by one using the new `/import/image` endpoint.\n",
    "\n",
    "For more information: https://eyened.github.io/eyened-platform/getting_started/"
   ]
  },
  {
   "cell_type": "code",
   "execution_count": 1,
   "metadata": {},
   "outputs": [],
   "source": [
    "import requests\n",
    "from pathlib import Path\n",
    "from tqdm.notebook import tqdm\n",
    "import os\n",
    "import base64\n",
    "from datetime import date\n",
    "from utils import download_and_extract_dataset\n",
    "\n",
    "from dotenv import load_dotenv\n",
    "\n",
    "docker_folder = env_path = Path.cwd().parent / \"docker\" \n",
    "\n",
    "# this will load the environment variables from the \".env\" file in the docker folder\n",
    "load_dotenv(docker_folder / \".env\")\n",
    "\n",
    "IMAGES_BASEPATH = os.getenv(\"IMAGES_BASEPATH\")\n",
    "PORT = os.getenv(\"PORT\")\n",
    "API_BASE_URL = f\"http://localhost:{PORT}/api\"\n",
    "\n",
    "# Create authentication header\n",
    "auth_str = f\"{os.getenv(\"ADMIN_USERNAME\")}:{os.getenv(\"ADMIN_PASSWORD\")}\"\n",
    "auth_bytes = auth_str.encode('ascii')\n",
    "base64_auth = base64.b64encode(auth_bytes).decode('ascii')\n",
    "headers = {\n",
    "    \"Authorization\": f\"Basic {base64_auth}\",\n",
    "    \"Content-Type\": \"application/json\"\n",
    "}"
   ]
  },
  {
   "cell_type": "code",
   "execution_count": null,
   "metadata": {},
   "outputs": [],
   "source": [
    "# Download HRF dataset if not already downloaded\n",
    "extract_dir = Path(IMAGES_BASEPATH) / \"hrfav\"\n",
    "if not extract_dir.exists():\n",
    "    os.makedirs(extract_dir, exist_ok=True)\n",
    "    download_and_extract_dataset('https://www5.cs.fau.de/fileadmin/research/datasets/fundus-images/all.zip', extract_dir)"
   ]
  },
  {
   "cell_type": "code",
   "execution_count": 3,
   "metadata": {},
   "outputs": [],
   "source": [
    "# Set up project information\n",
    "project_name = \"HRFAV Fundus Dataset - One by One\""
   ]
  },
  {
   "cell_type": "code",
   "execution_count": 4,
   "metadata": {},
   "outputs": [
    {
     "name": "stdout",
     "output_type": "stream",
     "text": [
      "Found 45 images.\n"
     ]
    }
   ],
   "source": [
    "# Get all image paths\n",
    "images_dir = extract_dir / \"images\"\n",
    "image_paths = list(images_dir.glob(\"*.jpg\")) + list(images_dir.glob(\"*.JPG\"))\n",
    "\n",
    "print(f\"Found {len(image_paths)} images.\")"
   ]
  },
  {
   "cell_type": "markdown",
   "metadata": {},
   "source": [
    "## Importing Images One by One\n",
    "\n",
    "Unlike the bulk import approach, we'll now import each image individually using the `/import/image` endpoint.\n",
    "\n",
    "First, we'll create a project structure where each image gets its own patient. Each image will be assigned a patient ID based on the image name."
   ]
  },
  {
   "cell_type": "code",
   "execution_count": 8,
   "metadata": {},
   "outputs": [],
   "source": [
    "# Define import options - we need to create patients, studies, and project\n",
    "import_options = {\n",
    "    \"create_patients\": True,\n",
    "    \"create_studies\": True, \n",
    "    \"create_series\": True,\n",
    "    \"create_project\": True,\n",
    "    \"include_stack_trace\": True\n",
    "}\n",
    "\n",
    "# For tracking results\n",
    "import_results = []"
   ]
  },
  {
   "cell_type": "code",
   "execution_count": 9,
   "metadata": {},
   "outputs": [
    {
     "data": {
      "application/vnd.jupyter.widget-view+json": {
       "model_id": "4c83b67ab5b941bc990204c10a5a7eea",
       "version_major": 2,
       "version_minor": 0
      },
      "text/plain": [
       "Importing images:   0%|          | 0/45 [00:00<?, ?it/s]"
      ]
     },
     "metadata": {},
     "output_type": "display_data"
    }
   ],
   "source": [
    "# Import each image individually\n",
    "for idx, img_path in enumerate(tqdm(image_paths, desc=\"Importing images\")):\n",
    "    # Create unique patient and series identifiers based on the image name\n",
    "    patient_id = f\"Patient_{idx//2}\"\n",
    "    \n",
    "    # Create image data structure for a single image\n",
    "    image_data = {\n",
    "        \"project_name\": project_name,\n",
    "        \"patient_identifier\": patient_id,\n",
    "        \"study_date\": date.today().isoformat(),\n",
    "        \"image\": str(img_path.relative_to(IMAGES_BASEPATH)),\n",
    "        \"image_props\": {\n",
    "            \"OldPath\": img_path.stem,\n",
    "            \"Laterality\": \"R\" if idx % 2 == 0 else \"L\"  # Alternating laterality for demo\n",
    "        }\n",
    "    }\n",
    "    \n",
    "    # Create the payload\n",
    "    payload = {\n",
    "        \"data\": image_data,\n",
    "        \"options\": import_options\n",
    "    }\n",
    "    \n",
    "    # Call the image import endpoint\n",
    "    response = requests.post(\n",
    "        f\"{API_BASE_URL}/import/image\",\n",
    "        headers=headers,\n",
    "        json=payload\n",
    "    )\n",
    "    \n",
    "    result = response.json()\n",
    "    import_results.append(result)\n",
    "    \n",
    "    # If an error occurred, print it but continue with the next image\n",
    "    if not result[\"success\"]:\n",
    "        print(f\"Error importing {img_path.name}: {result['error']}\")\n",
    "        print(result['stack_trace'])\n",
    "        break"
   ]
  },
  {
   "cell_type": "code",
   "execution_count": 10,
   "metadata": {},
   "outputs": [
    {
     "name": "stdout",
     "output_type": "stream",
     "text": [
      "Total images: 45\n",
      "Successfully imported: 45\n",
      "Failed imports: 0\n"
     ]
    }
   ],
   "source": [
    "# Summarize the import results\n",
    "successful_imports = [r for r in import_results if r[\"success\"]]\n",
    "failed_imports = [r for r in import_results if not r[\"success\"]]\n",
    "\n",
    "print(f\"Total images: {len(image_paths)}\")\n",
    "print(f\"Successfully imported: {len(successful_imports)}\")\n",
    "print(f\"Failed imports: {len(failed_imports)}\")\n",
    "\n",
    "if failed_imports:\n",
    "    print(\"\\nFailed imports:\")\n",
    "    for fail in failed_imports:\n",
    "        print(f\"  {fail['image_path']}: {fail['error']}\")"
   ]
  },
  {
   "cell_type": "code",
   "execution_count": null,
   "metadata": {},
   "outputs": [],
   "source": []
  }
 ],
 "metadata": {
  "kernelspec": {
   "display_name": ".venv",
   "language": "python",
   "name": "python3"
  },
  "language_info": {
   "codemirror_mode": {
    "name": "ipython",
    "version": 3
   },
   "file_extension": ".py",
   "mimetype": "text/x-python",
   "name": "python",
   "nbconvert_exporter": "python",
   "pygments_lexer": "ipython3",
   "version": "3.12.2"
  }
 },
 "nbformat": 4,
 "nbformat_minor": 2
}
