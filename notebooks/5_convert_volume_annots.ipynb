{
 "cells": [
  {
   "cell_type": "code",
   "execution_count": null,
   "metadata": {},
   "outputs": [],
   "source": [
    "from random import sample\n",
    "import json\n",
    "import base64\n",
    "import gzip\n",
    "from io import BytesIO\n",
    "import pandas as pd\n",
    "import numpy as np\n",
    "from PIL import Image\n",
    "from tqdm.notebook import tqdm\n",
    "from sqlalchemy import select, func\n",
    "from eyened_orm import (\n",
    "    ImageInstance,\n",
    "    Modality,\n",
    "    Feature,\n",
    "    Annotation,\n",
    "    AnnotationData,\n",
    "    AnnotationType,\n",
    "    Segmentation,\n",
    "    Creator\n",
    ")\n",
    "from eyened_orm.Segmentation import Datatype, DataRepresentation\n",
    "from eyened_orm.db import Database"
   ]
  },
  {
   "cell_type": "code",
   "execution_count": null,
   "metadata": {},
   "outputs": [],
   "source": [
    "database = Database('../dev/.env')\n",
    "session = database.create_session()"
   ]
  },
  {
   "cell_type": "code",
   "execution_count": null,
   "metadata": {},
   "outputs": [],
   "source": [
    "macular_layers = [\n",
    "        \"background\",\n",
    "        \"Retinal Nerve Fiber Layer (RNFL)\",\n",
    "        \"Ganglion Cell Layer (GCL)\",\n",
    "        \"Inner Plexiform Layer (IPL)\",\n",
    "        \"Inner Nuclear Layer (INL)\",\n",
    "        \"Outer Plexiform Layer (OPL)\",\n",
    "        \"Outer Nuclear Layer (ONL)\",\n",
    "        \"External Limiting Membrane (ELM)\",\n",
    "        \"Myoid Zone (MZ)\",\n",
    "        \"Ellipsoid Zone (EZ)\",\n",
    "        \"Outer Segments (OS)\",\n",
    "        \"Inter Digitation Zone (IDZ)\",\n",
    "        \"Retinal Pigment Epithelium (RPE)\",\n",
    "        \"Choroid\",\n",
    "        \"Other\"\n",
    "]\n",
    "optic_disc_features = [\n",
    "        \"background\",\n",
    "        \"Retinal Nerve Fiber Layer (RNFL)\",\n",
    "        \"Bruch's Membrane (BM)\",\n",
    "        \"Lamina Cribosa\",\n",
    "        \"Vessels\",\n",
    "        \"PPA alpha\",\n",
    "        \"PPA beta\",\n",
    "        \"PPA gamma\"\n",
    "]"
   ]
  },
  {
   "cell_type": "code",
   "execution_count": null,
   "metadata": {},
   "outputs": [],
   "source": [
    "# feature_macular_layers = Feature.from_list(session, \"Macular Layers NEW\", macular_layers)"
   ]
  },
  {
   "cell_type": "code",
   "execution_count": null,
   "metadata": {},
   "outputs": [],
   "source": [
    "feature_macular_layers = Feature.by_name(session, \"Macular Layers NEW\")\n",
    "if feature_macular_layers is None:\n",
    "    feature_macular_layers = Feature.from_list(session, \"Macular Layers NEW\", macular_layers)\n",
    "    session.add(feature_macular_layers)\n",
    "    session.commit()\n",
    "\n",
    "feature_optic_disc_features = Feature.by_name(session, \"Optic Disc Features NEW\")\n",
    "if feature_optic_disc_features is None:\n",
    "    feature_optic_disc_features = Feature.from_list(session, \"Optic Disc Features NEW\", optic_disc_features)\n",
    "    session.add(feature_optic_disc_features)\n",
    "    session.commit()"
   ]
  },
  {
   "cell_type": "code",
   "execution_count": null,
   "metadata": {},
   "outputs": [],
   "source": [
    "def get_annotations_with_annotation_type(annotation_type_ids, where=None):\n",
    "    #\n",
    "    query = (\n",
    "        select(Annotation, ImageInstance)\n",
    "        # .join_from(Annotation, AnnotationData, isouter=True)\n",
    "        .join_from(Annotation, ImageInstance, isouter=True)\n",
    "        .join_from(Annotation, Creator)\n",
    "        .where(\n",
    "            ~Annotation.Inactive & \n",
    "            (Annotation.AnnotationTypeID.in_(annotation_type_ids)) &\n",
    "            (Annotation.CreatorID != 1) &\n",
    "            (Creator.IsHuman)\n",
    "        )\n",
    "    )\n",
    "    \n",
    "    if where is not None:\n",
    "        query = query.where(where)\n",
    "    \n",
    "    all_annots = session.execute(\n",
    "        query\n",
    "        .order_by(func.random())\n",
    "        .limit(5)\n",
    "    ).all()\n",
    "    return all_annots"
   ]
  },
  {
   "cell_type": "code",
   "execution_count": null,
   "metadata": {},
   "outputs": [],
   "source": [
    "annots =get_annotations_with_annotation_type([16])"
   ]
  },
  {
   "cell_type": "code",
   "execution_count": null,
   "metadata": {},
   "outputs": [],
   "source": [
    "for annot, im in annots:\n",
    "    print(annot.AnnotationData[0].path)"
   ]
  },
  {
   "cell_type": "code",
   "execution_count": null,
   "metadata": {},
   "outputs": [],
   "source": [
    "# BASIC ANNOTATIONS\n",
    "def open_data(dpath, db_res=None):\n",
    "    assert db_res is not None, \"db_res is required for .gz files\"\n",
    "    with gzip.open(dpath, 'rb') as f:\n",
    "        im = np.frombuffer(f.read(), dtype=np.uint8)\n",
    "        im = im.reshape(db_res) # HWD\n",
    "        # transpose to DHW\n",
    "        # im = im.transpose(2,0,1)\n",
    "    return im # DHW\n",
    "\n",
    "def convert_annotations(annotation_type_id, where=None):\n",
    "    elems = get_annotations_with_annotation_type([annotation_type_id], where=where)\n",
    "    annotations = []\n",
    "    segmentations = []\n",
    "    # ignore Vessel masks here. They will be inserted with the Artery/Vein annotations\n",
    "    for annot, image_instance in elems:\n",
    "        if len(annot.AnnotationData) == 0:\n",
    "            print('Found no annotation data for ', annot.AnnotationID)\n",
    "            continue\n",
    "\n",
    "        if len(annot.AnnotationData) > 1:\n",
    "            print('Found multiple annotation data for ', annot.AnnotationID)\n",
    "            continue\n",
    "        annot_data = annot.AnnotationData[0]\n",
    "        res_db = (image_instance.NrOfFrames, image_instance.Rows_y, image_instance.Columns_x)\n",
    "\n",
    "        try:\n",
    "            im = open_data(annot_data.path, res_db)\n",
    "        except Exception as e:\n",
    "            raise RuntimeError(f'Error opening {annot_data.path}: {e}') from e\n",
    "        \n",
    "        if len(im.shape) != 3:\n",
    "            raise RuntimeError(f'Found shape {im.shape} for {annot_data.path}')\n",
    "        \n",
    "        print(im.shape, res_db)\n",
    "\n",
    "        depth, height, width = im.shape\n",
    "        # map from old features to new composite features\n",
    "        if annot.FeatureID == 45:\n",
    "            feature_id = feature_macular_layers.FeatureID\n",
    "        elif annot.FeatureID == 129:\n",
    "            feature_id = feature_optic_disc_features.FeatureID\n",
    "        else:\n",
    "            raise RuntimeError(f'Unknown feature ID: {annot.FeatureID}')\n",
    "        segmentation = Segmentation(\n",
    "            Depth=depth,\n",
    "            Height=height,\n",
    "            Width=width,\n",
    "            SparseAxis=0,\n",
    "            ScanIndices=None,\n",
    "            ImageProjectionMatrix=None,\n",
    "            DataRepresentation=DataRepresentation.MultiClass,\n",
    "            DataType=Datatype.R8UI,\n",
    "            ImageInstanceID=image_instance.ImageInstanceID,\n",
    "            CreatorID=annot.CreatorID,\n",
    "            FeatureID = feature_id\n",
    "        )\n",
    "\n",
    "        session.add(segmentation)\n",
    "        session.flush([segmentation])\n",
    "\n",
    "        segmentation.write_data(im)\n",
    "\n",
    "        segmentations.append(segmentation)\n",
    "        annotations.append(annot)\n",
    "\n",
    "    session.commit()\n",
    "    return annotations, segmentations"
   ]
  },
  {
   "cell_type": "code",
   "execution_count": null,
   "metadata": {},
   "outputs": [],
   "source": [
    "annotations, segmentations  = convert_annotations(16)"
   ]
  },
  {
   "cell_type": "code",
   "execution_count": null,
   "metadata": {},
   "outputs": [],
   "source": [
    "for annot, seg in zip(annotations, segmentations):\n",
    "    print(annot.AnnotationID, seg.SegmentationID, seg.Feature.FeatureName, seg.ImageInstanceID)"
   ]
  },
  {
   "cell_type": "code",
   "execution_count": null,
   "metadata": {},
   "outputs": [],
   "source": []
  }
 ],
 "metadata": {
  "kernelspec": {
   "display_name": "viewer",
   "language": "python",
   "name": "python3"
  },
  "language_info": {
   "codemirror_mode": {
    "name": "ipython",
    "version": 3
   },
   "file_extension": ".py",
   "mimetype": "text/x-python",
   "name": "python",
   "nbconvert_exporter": "python",
   "pygments_lexer": "ipython3",
   "version": "3.12.11"
  }
 },
 "nbformat": 4,
 "nbformat_minor": 2
}
