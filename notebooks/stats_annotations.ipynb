{
 "cells": [
  {
   "cell_type": "code",
   "execution_count": 1,
   "metadata": {},
   "outputs": [],
   "source": [
    "from random import sample\n",
    "import json\n",
    "import base64\n",
    "import gzip\n",
    "from io import BytesIO\n",
    "import pandas as pd\n",
    "import numpy as np\n",
    "from PIL import Image\n",
    "from tqdm.notebook import tqdm\n",
    "from sqlalchemy import select, func\n",
    "from eyened_orm import (\n",
    "    ImageInstance,\n",
    "    Annotation,\n",
    "    AnnotationData,\n",
    "    AnnotationType,\n",
    "    DBManager,\n",
    ")\n",
    "from eyened_orm.utils import get_config\n",
    "from eyened_orm.utils.zarr.manager_annotation import AnnotationZarrStorageManager"
   ]
  },
  {
   "cell_type": "code",
   "execution_count": 2,
   "metadata": {},
   "outputs": [],
   "source": [
    "config = get_config(\"config.prod\")\n",
    "DBManager.init(config)\n",
    "session = DBManager.get_session()\n",
    "annotation_zarr_storage_manager = AnnotationZarrStorageManager(\n",
    "    config.annotations_zarr_store\n",
    ")"
   ]
  },
  {
   "cell_type": "code",
   "execution_count": 3,
   "metadata": {},
   "outputs": [],
   "source": [
    "def get_annotations_with_annotation_type(annotation_type_ids):\n",
    "    # \n",
    "    all_annots = session.execute(\n",
    "        select(Annotation, AnnotationData, ImageInstance)\n",
    "        .join_from(Annotation, AnnotationData, isouter=True)\n",
    "        .join_from(Annotation, ImageInstance, isouter=True)\n",
    "        .where(~Annotation.Inactive & (Annotation.AnnotationTypeID.in_(annotation_type_ids)))\n",
    "        .order_by(func.random())\n",
    "        .limit(1000)\n",
    "    ).all()\n",
    "    all_annots = [(annot, annot_data, image_instance) for annot, annot_data, image_instance in all_annots if annot_data is not None]\n",
    "    return all_annots"
   ]
  },
  {
   "cell_type": "code",
   "execution_count": 4,
   "metadata": {},
   "outputs": [],
   "source": [
    "\n",
    "# resolutions = []\n",
    "# for annot, annot_data, image_instance in tqdm(get_annotations_with_annotation_type([14])):\n",
    "#     # if annot_data is None\n",
    "#     assert annot_data.path.suffix == \".png\", annot_data.path\n",
    "\n",
    "#     res_db = (image_instance.Columns_x, image_instance.Rows_y)\n",
    "#     resolutions.append(res_db)\n",
    "\n",
    "#     im = Image.open(annot_data.path)\n",
    "#     rs_im = im.size\n",
    "\n",
    "#     if res_db != rs_im:\n",
    "#         print(f'Found shape {rs_im} != {res_db} for {annot_data.path}')\n",
    "#         continue\n",
    "\n",
    "#     im = np.array(im)\n",
    "#     im = im[...,None,None].astype(np.uint8)\n",
    "\n",
    "#     if len(im.shape) != 4:\n",
    "#         print(f'Found shape {im.shape} for {annot_data.path}')\n",
    "#         continue\n",
    "\n",
    "#     annotation_zarr_storage_manager.write('test', im, None)"
   ]
  },
  {
   "cell_type": "code",
   "execution_count": 6,
   "metadata": {},
   "outputs": [
    {
     "ename": "KeyboardInterrupt",
     "evalue": "",
     "output_type": "error",
     "traceback": [
      "\u001b[0;31m---------------------------------------------------------------------------\u001b[0m",
      "\u001b[0;31mKeyboardInterrupt\u001b[0m                         Traceback (most recent call last)",
      "Cell \u001b[0;32mIn[6], line 48\u001b[0m\n\u001b[1;32m     45\u001b[0m     \u001b[38;5;28mprint\u001b[39m(\u001b[38;5;124mf\u001b[39m\u001b[38;5;124m'\u001b[39m\u001b[38;5;124mFound shape \u001b[39m\u001b[38;5;132;01m{\u001b[39;00mim\u001b[38;5;241m.\u001b[39mshape\u001b[38;5;132;01m}\u001b[39;00m\u001b[38;5;124m for \u001b[39m\u001b[38;5;132;01m{\u001b[39;00mannot_data\u001b[38;5;241m.\u001b[39mpath\u001b[38;5;132;01m}\u001b[39;00m\u001b[38;5;124m'\u001b[39m)\n\u001b[1;32m     46\u001b[0m     \u001b[38;5;28;01mcontinue\u001b[39;00m\n\u001b[0;32m---> 48\u001b[0m \u001b[43mannotation_zarr_storage_manager\u001b[49m\u001b[38;5;241;43m.\u001b[39;49m\u001b[43mwrite\u001b[49m\u001b[43m(\u001b[49m\u001b[38;5;124;43m'\u001b[39;49m\u001b[38;5;124;43mtest\u001b[39;49m\u001b[38;5;124;43m'\u001b[39;49m\u001b[43m,\u001b[49m\u001b[43m \u001b[49m\u001b[43mim\u001b[49m\u001b[43m,\u001b[49m\u001b[43m \u001b[49m\u001b[38;5;28;43;01mNone\u001b[39;49;00m\u001b[43m)\u001b[49m\n",
      "File \u001b[0;32m~/viewer/eyened_platform/orm/eyened_orm/utils/zarr/manager_annotation.py:137\u001b[0m, in \u001b[0;36mAnnotationZarrStorageManager.write\u001b[0;34m(self, group_name, data, zarr_index)\u001b[0m\n\u001b[1;32m    128\u001b[0m \u001b[38;5;28;01mdef\u001b[39;00m\u001b[38;5;250m \u001b[39m\u001b[38;5;21mwrite\u001b[39m(\n\u001b[1;32m    129\u001b[0m     \u001b[38;5;28mself\u001b[39m,\n\u001b[1;32m    130\u001b[0m     group_name: \u001b[38;5;28mstr\u001b[39m,\n\u001b[0;32m   (...)\u001b[0m\n\u001b[1;32m    133\u001b[0m ) \u001b[38;5;241m-\u001b[39m\u001b[38;5;241m>\u001b[39m \u001b[38;5;28mint\u001b[39m:\n\u001b[1;32m    134\u001b[0m     \u001b[38;5;66;03m# get the array\u001b[39;00m\n\u001b[1;32m    135\u001b[0m     zarr_array \u001b[38;5;241m=\u001b[39m \u001b[38;5;28mself\u001b[39m\u001b[38;5;241m.\u001b[39mget_array(group_name, data\u001b[38;5;241m.\u001b[39mdtype, data\u001b[38;5;241m.\u001b[39mshape)\n\u001b[0;32m--> 137\u001b[0m     \u001b[38;5;28;01mreturn\u001b[39;00m \u001b[43mzarr_array\u001b[49m\u001b[38;5;241;43m.\u001b[39;49m\u001b[43mwrite\u001b[49m\u001b[43m(\u001b[49m\u001b[43mzarr_index\u001b[49m\u001b[43m,\u001b[49m\u001b[43m \u001b[49m\u001b[43mdata\u001b[49m\u001b[43m)\u001b[49m\n",
      "File \u001b[0;32m~/viewer/eyened_platform/orm/eyened_orm/utils/zarr/annotation_array.py:82\u001b[0m, in \u001b[0;36mAnnotationZarrArray.write\u001b[0;34m(self, zarr_index, annot_data)\u001b[0m\n\u001b[1;32m     79\u001b[0m     \u001b[38;5;28;01mreturn\u001b[39;00m zarr_index\n\u001b[1;32m     80\u001b[0m \u001b[38;5;28;01melse\u001b[39;00m:\n\u001b[1;32m     81\u001b[0m     \u001b[38;5;66;03m# Append to array\u001b[39;00m\n\u001b[0;32m---> 82\u001b[0m     \u001b[38;5;28;43mself\u001b[39;49m\u001b[38;5;241;43m.\u001b[39;49m\u001b[43marray\u001b[49m\u001b[38;5;241;43m.\u001b[39;49m\u001b[43mappend\u001b[49m\u001b[43m(\u001b[49m\u001b[43mannot_data\u001b[49m\u001b[43m[\u001b[49m\u001b[38;5;28;43;01mNone\u001b[39;49;00m\u001b[43m,\u001b[49m\u001b[43m \u001b[49m\u001b[38;5;241;43m.\u001b[39;49m\u001b[38;5;241;43m.\u001b[39;49m\u001b[38;5;241;43m.\u001b[39;49m\u001b[43m]\u001b[49m\u001b[43m)\u001b[49m\n\u001b[1;32m     83\u001b[0m     \u001b[38;5;28;01mreturn\u001b[39;00m \u001b[38;5;28mself\u001b[39m\u001b[38;5;241m.\u001b[39marray\u001b[38;5;241m.\u001b[39mshape[\u001b[38;5;241m0\u001b[39m] \u001b[38;5;241m-\u001b[39m \u001b[38;5;241m1\u001b[39m\n",
      "File \u001b[0;32m~/miniconda3/envs/viewer/lib/python3.11/site-packages/zarr/core/array.py:3619\u001b[0m, in \u001b[0;36mArray.append\u001b[0;34m(self, data, axis)\u001b[0m\n\u001b[1;32m   3585\u001b[0m \u001b[38;5;28;01mdef\u001b[39;00m\u001b[38;5;250m \u001b[39m\u001b[38;5;21mappend\u001b[39m(\u001b[38;5;28mself\u001b[39m, data: npt\u001b[38;5;241m.\u001b[39mArrayLike, axis: \u001b[38;5;28mint\u001b[39m \u001b[38;5;241m=\u001b[39m \u001b[38;5;241m0\u001b[39m) \u001b[38;5;241m-\u001b[39m\u001b[38;5;241m>\u001b[39m ChunkCoords:\n\u001b[1;32m   3586\u001b[0m \u001b[38;5;250m    \u001b[39m\u001b[38;5;124;03m\"\"\"Append `data` to `axis`.\u001b[39;00m\n\u001b[1;32m   3587\u001b[0m \n\u001b[1;32m   3588\u001b[0m \u001b[38;5;124;03m    Parameters\u001b[39;00m\n\u001b[0;32m   (...)\u001b[0m\n\u001b[1;32m   3617\u001b[0m \u001b[38;5;124;03m    (20000, 2000)\u001b[39;00m\n\u001b[1;32m   3618\u001b[0m \u001b[38;5;124;03m    \"\"\"\u001b[39;00m\n\u001b[0;32m-> 3619\u001b[0m     \u001b[38;5;28;01mreturn\u001b[39;00m \u001b[43msync\u001b[49m\u001b[43m(\u001b[49m\u001b[38;5;28;43mself\u001b[39;49m\u001b[38;5;241;43m.\u001b[39;49m\u001b[43m_async_array\u001b[49m\u001b[38;5;241;43m.\u001b[39;49m\u001b[43mappend\u001b[49m\u001b[43m(\u001b[49m\u001b[43mdata\u001b[49m\u001b[43m,\u001b[49m\u001b[43m \u001b[49m\u001b[43maxis\u001b[49m\u001b[38;5;241;43m=\u001b[39;49m\u001b[43maxis\u001b[49m\u001b[43m)\u001b[49m\u001b[43m)\u001b[49m\n",
      "File \u001b[0;32m~/miniconda3/envs/viewer/lib/python3.11/site-packages/zarr/core/sync.py:156\u001b[0m, in \u001b[0;36msync\u001b[0;34m(coro, loop, timeout)\u001b[0m\n\u001b[1;32m    152\u001b[0m     \u001b[38;5;28;01mpass\u001b[39;00m\n\u001b[1;32m    154\u001b[0m future \u001b[38;5;241m=\u001b[39m asyncio\u001b[38;5;241m.\u001b[39mrun_coroutine_threadsafe(_runner(coro), loop)\n\u001b[0;32m--> 156\u001b[0m finished, unfinished \u001b[38;5;241m=\u001b[39m \u001b[43mwait\u001b[49m\u001b[43m(\u001b[49m\u001b[43m[\u001b[49m\u001b[43mfuture\u001b[49m\u001b[43m]\u001b[49m\u001b[43m,\u001b[49m\u001b[43m \u001b[49m\u001b[43mreturn_when\u001b[49m\u001b[38;5;241;43m=\u001b[39;49m\u001b[43masyncio\u001b[49m\u001b[38;5;241;43m.\u001b[39;49m\u001b[43mALL_COMPLETED\u001b[49m\u001b[43m,\u001b[49m\u001b[43m \u001b[49m\u001b[43mtimeout\u001b[49m\u001b[38;5;241;43m=\u001b[39;49m\u001b[43mtimeout\u001b[49m\u001b[43m)\u001b[49m\n\u001b[1;32m    157\u001b[0m \u001b[38;5;28;01mif\u001b[39;00m \u001b[38;5;28mlen\u001b[39m(unfinished) \u001b[38;5;241m>\u001b[39m \u001b[38;5;241m0\u001b[39m:\n\u001b[1;32m    158\u001b[0m     \u001b[38;5;28;01mraise\u001b[39;00m \u001b[38;5;167;01mTimeoutError\u001b[39;00m(\u001b[38;5;124mf\u001b[39m\u001b[38;5;124m\"\u001b[39m\u001b[38;5;124mCoroutine \u001b[39m\u001b[38;5;132;01m{\u001b[39;00mcoro\u001b[38;5;132;01m}\u001b[39;00m\u001b[38;5;124m failed to finish within \u001b[39m\u001b[38;5;132;01m{\u001b[39;00mtimeout\u001b[38;5;132;01m}\u001b[39;00m\u001b[38;5;124m s\u001b[39m\u001b[38;5;124m\"\u001b[39m)\n",
      "File \u001b[0;32m~/miniconda3/envs/viewer/lib/python3.11/concurrent/futures/_base.py:305\u001b[0m, in \u001b[0;36mwait\u001b[0;34m(fs, timeout, return_when)\u001b[0m\n\u001b[1;32m    301\u001b[0m         \u001b[38;5;28;01mreturn\u001b[39;00m DoneAndNotDoneFutures(done, not_done)\n\u001b[1;32m    303\u001b[0m     waiter \u001b[38;5;241m=\u001b[39m _create_and_install_waiters(fs, return_when)\n\u001b[0;32m--> 305\u001b[0m \u001b[43mwaiter\u001b[49m\u001b[38;5;241;43m.\u001b[39;49m\u001b[43mevent\u001b[49m\u001b[38;5;241;43m.\u001b[39;49m\u001b[43mwait\u001b[49m\u001b[43m(\u001b[49m\u001b[43mtimeout\u001b[49m\u001b[43m)\u001b[49m\n\u001b[1;32m    306\u001b[0m \u001b[38;5;28;01mfor\u001b[39;00m f \u001b[38;5;129;01min\u001b[39;00m fs:\n\u001b[1;32m    307\u001b[0m     \u001b[38;5;28;01mwith\u001b[39;00m f\u001b[38;5;241m.\u001b[39m_condition:\n",
      "File \u001b[0;32m~/miniconda3/envs/viewer/lib/python3.11/threading.py:629\u001b[0m, in \u001b[0;36mEvent.wait\u001b[0;34m(self, timeout)\u001b[0m\n\u001b[1;32m    627\u001b[0m signaled \u001b[38;5;241m=\u001b[39m \u001b[38;5;28mself\u001b[39m\u001b[38;5;241m.\u001b[39m_flag\n\u001b[1;32m    628\u001b[0m \u001b[38;5;28;01mif\u001b[39;00m \u001b[38;5;129;01mnot\u001b[39;00m signaled:\n\u001b[0;32m--> 629\u001b[0m     signaled \u001b[38;5;241m=\u001b[39m \u001b[38;5;28;43mself\u001b[39;49m\u001b[38;5;241;43m.\u001b[39;49m\u001b[43m_cond\u001b[49m\u001b[38;5;241;43m.\u001b[39;49m\u001b[43mwait\u001b[49m\u001b[43m(\u001b[49m\u001b[43mtimeout\u001b[49m\u001b[43m)\u001b[49m\n\u001b[1;32m    630\u001b[0m \u001b[38;5;28;01mreturn\u001b[39;00m signaled\n",
      "File \u001b[0;32m~/miniconda3/envs/viewer/lib/python3.11/threading.py:327\u001b[0m, in \u001b[0;36mCondition.wait\u001b[0;34m(self, timeout)\u001b[0m\n\u001b[1;32m    325\u001b[0m \u001b[38;5;28;01mtry\u001b[39;00m:    \u001b[38;5;66;03m# restore state no matter what (e.g., KeyboardInterrupt)\u001b[39;00m\n\u001b[1;32m    326\u001b[0m     \u001b[38;5;28;01mif\u001b[39;00m timeout \u001b[38;5;129;01mis\u001b[39;00m \u001b[38;5;28;01mNone\u001b[39;00m:\n\u001b[0;32m--> 327\u001b[0m         \u001b[43mwaiter\u001b[49m\u001b[38;5;241;43m.\u001b[39;49m\u001b[43macquire\u001b[49m\u001b[43m(\u001b[49m\u001b[43m)\u001b[49m\n\u001b[1;32m    328\u001b[0m         gotit \u001b[38;5;241m=\u001b[39m \u001b[38;5;28;01mTrue\u001b[39;00m\n\u001b[1;32m    329\u001b[0m     \u001b[38;5;28;01melse\u001b[39;00m:\n",
      "\u001b[0;31mKeyboardInterrupt\u001b[0m: "
     ]
    }
   ],
   "source": [
    "# 13 binary mask annotations\n",
    "# 14 probability annotations\n",
    "# 20 oct binary mask annotations\n",
    "# 4 label numbers\n",
    "def open_data(dpath, db_res):\n",
    "    if dpath.suffix == \".gz\":\n",
    "        with gzip.open(dpath, 'rb') as f:\n",
    "            im = np.frombuffer(f.read(), dtype=np.uint8)\n",
    "            im = im.reshape(db_res)\n",
    "    else:\n",
    "        im = Image.open(dpath)\n",
    "\n",
    "        if db_res[:2] != im.size:\n",
    "            raise RuntimeError(f'Found shape {im.size} != {db_res} for {annot_data.path}')\n",
    "\n",
    "        if im.mode != \"L\":\n",
    "            print(f\"Found mode {im.mode} for {annot_data.path}, annot_id: {annot.AnnotationID}\")\n",
    "            im = im.convert('L')\n",
    "\n",
    "        im = np.array(im)\n",
    "        \n",
    "    if len(im.shape) == 2:\n",
    "        im = im[...,None,None].astype(np.uint8)\n",
    "    elif len(im.shape) == 3:\n",
    "        im = im[...,None].astype(np.uint8)\n",
    "    else:\n",
    "        raise RuntimeError(f'Found shape {im.shape} for {annot_data.path}')\n",
    "\n",
    "    return im\n",
    "\n",
    "for annot, annot_data, image_instance in get_annotations_with_annotation_type([20]):\n",
    "    # if annot_data is None\n",
    "    # assert annot_data.path.suffix == \".png\", annot_data.path\n",
    "\n",
    "    res_db = (image_instance.Rows_y, image_instance.Columns_x, image_instance.NrOfFrames)\n",
    "\n",
    "    try:\n",
    "        im = open_data(annot_data.path, res_db)\n",
    "    except Exception as e:\n",
    "        print(f'Error opening {annot_data.path}: {e}')\n",
    "        continue\n",
    "    \n",
    "    # print(im.shape)\n",
    "    if len(im.shape) != 4:\n",
    "        print(f'Found shape {im.shape} for {annot_data.path}')\n",
    "        continue\n",
    "\n",
    "    annotation_zarr_storage_manager.write('test', im, None)"
   ]
  },
  {
   "cell_type": "code",
   "execution_count": 32,
   "metadata": {},
   "outputs": [
    {
     "data": {
      "text/plain": [
       "128.0"
      ]
     },
     "execution_count": 32,
     "metadata": {},
     "output_type": "execute_result"
    }
   ],
   "source": [
    "57999360  / (885*512)"
   ]
  },
  {
   "cell_type": "code",
   "execution_count": 18,
   "metadata": {},
   "outputs": [],
   "source": [
    "d=open_data('/mnt/oogergo/eyened/eyened_platform/annotations/1691382/421525_0.binary.gz')"
   ]
  },
  {
   "cell_type": "code",
   "execution_count": 19,
   "metadata": {},
   "outputs": [
    {
     "data": {
      "text/plain": [
       "(92184576,)"
      ]
     },
     "execution_count": 19,
     "metadata": {},
     "output_type": "execute_result"
    }
   ],
   "source": [
    "d.shape"
   ]
  },
  {
   "cell_type": "code",
   "execution_count": null,
   "metadata": {},
   "outputs": [],
   "source": [
    "\n",
    "\n",
    "# from matplotlib import pyplot as plt\n",
    "# # test A/V conversion\n",
    "# annots = get_annotations_with_annotation_type([9])\n",
    "# annot = annots[10]\n",
    "# img_size = (annot[2].Columns_x, annot[2].Rows_y)\n",
    "# with open(annot[1].path, 'r') as f:\n",
    "#     data = json.load(f)\n",
    "# for branch in data['branches']:\n",
    "#     drawing = branch['drawing'][22:]\n",
    "#     drawing = base64.b64decode(drawing)\n",
    "#     # drawing = np.frombuffer(drawing, dtype=np.uint8)\n",
    "#     drawing = Image.open(BytesIO(drawing))\n",
    "#     drawing = np.array(drawing)[:, :, 0]\n",
    "#     drawing = drawing.reshape(img_size[1], img_size[0])\n",
    "#     plt.imshow(drawing)"
   ]
  },
  {
   "cell_type": "code",
   "execution_count": null,
   "metadata": {},
   "outputs": [
    {
     "name": "stdout",
     "output_type": "stream",
     "text": [
      "Found image_instance is None for /mnt/oogergo/eyened/eyened_platform/annotations/385966/24268_0.json, annot_id: 24268\n"
     ]
    }
   ],
   "source": [
    "# artery-vein annotations\n",
    "import json\n",
    "import base64\n",
    "resolutions = []\n",
    "for annot, annot_data, image_instance in get_annotations_with_annotation_type([9]):\n",
    "    # if annot_data is None\n",
    "    assert annot_data.path.suffix == \".json\", annot_data.path\n",
    "\n",
    "    if image_instance is None:\n",
    "        print(f\"Found image_instance is None for {annot_data.path}, annot_id: {annot.AnnotationID}\")\n",
    "        continue\n",
    "\n",
    "    with open(annot_data.path, 'r') as f:\n",
    "        data = json.load(f)\n",
    "\n",
    "    mask = Annotation.by_id(data['mask_id'])\n",
    "    if mask is None:\n",
    "        print(f\"Found mask is None for {annot_data.path}, annot_id: {annot.AnnotationID}\")\n",
    "        continue\n",
    "\n",
    "    img_size = (annot[2].Columns_x, annot[2].Rows_y)\n",
    "    with open(annot[1].path, 'r') as f:\n",
    "        data = json.load(f)\n",
    "    for branch in data['branches']:\n",
    "        drawing = branch['drawing'][22:]\n",
    "        drawing = base64.b64decode(drawing)\n",
    "        # drawing = np.frombuffer(drawing, dtype=np.uint8)\n",
    "        drawing = Image.open(BytesIO(drawing))\n",
    "        drawing = np.array(drawing)[:, :, 0]\n",
    "        drawing = drawing.reshape(img_size[1], img_size[0])\n",
    "\n",
    "        # put in Zarr\n",
    "        annot_index = annotation_zarr_storage_manager.write('test', drawing, None)\n",
    "\n",
    "        # make and link new annotations\n",
    "        new_annot = Annotation(\n",
    "            AnnotationTypeID=13,\n",
    "            ImageInstanceID=image_instance.ImageInstanceID,\n",
    "            AnnotationReferenceID=mask.AnnotationID,\n",
    "            # AnnotationDataID=annot_data.AnnotationDataID,\n",
    "        )\n",
    "\n",
    "    # res_db = (image_instance.Columns_x, image_instance.Rows_y)\n",
    "    # resolutions.append(res_db)\n",
    "\n",
    "    # im = Image.open(annot_data.path)\n",
    "    # rs_im = im.size\n",
    "\n",
    "    # if res_db != rs_im:\n",
    "    #     print(f'Found shape {rs_im} != {res_db} for {annot_data.path}')\n",
    "    #     continue\n",
    "\n",
    "    # if im.mode not in [\"RGB\", \"RGBA\"]:\n",
    "    #     print(f\"Found mode {im.mode} for {annot_data.path}, annot_id: {annot.AnnotationID}\")\n",
    "    #     im = im.convert('RGB')\n",
    "\n",
    "    # im = np.array(im)\n",
    "    # im = im[...,:2] # red and green channels\n",
    "    # im = im.reshape(1, im.shape[0], im.shape[1], 1, im.shape[2])"
   ]
  },
  {
   "cell_type": "code",
   "execution_count": 7,
   "metadata": {},
   "outputs": [
    {
     "name": "stdout",
     "output_type": "stream",
     "text": [
      "Found mode L for /mnt/oogergo/eyened/eyened_platform/annotations/macula3/2195243.png, annot_id: 677239\n",
      "Found mode L for /mnt/oogergo/eyened/eyened_platform/annotations/macula3/2217629.png, annot_id: 671653\n",
      "Found mode L for /mnt/oogergo/eyened/eyened_platform/annotations/macula3/2204141.png, annot_id: 668494\n",
      "Found mode L for /mnt/oogergo/eyened/eyened_platform/annotations/macula3/2212353.png, annot_id: 677102\n",
      "Found mode L for /mnt/oogergo/eyened/eyened_platform/annotations/macula3/2225498.png, annot_id: 672951\n",
      "Found mode L for /mnt/oogergo/eyened/eyened_platform/annotations/macula2/2214117.png, annot_id: 173429\n",
      "Found mode L for /mnt/oogergo/eyened/eyened_platform/annotations/macula3/2204055.png, annot_id: 676018\n",
      "Found mode L for /mnt/oogergo/eyened/eyened_platform/annotations/macula3/2188185.png, annot_id: 668926\n",
      "Found mode L for /mnt/oogergo/eyened/eyened_platform/annotations/macula3/2218258.png, annot_id: 671069\n",
      "Found mode L for /mnt/oogergo/eyened/eyened_platform/annotations/macula3/2201616.png, annot_id: 676803\n",
      "Found mode L for /mnt/oogergo/eyened/eyened_platform/annotations/macula3/2190582.png, annot_id: 678217\n",
      "Found mode L for /mnt/oogergo/eyened/eyened_platform/annotations/macula3/2216566.png, annot_id: 670361\n",
      "Found mode L for /mnt/oogergo/eyened/eyened_platform/annotations/macula3/2225333.png, annot_id: 672307\n",
      "Found mode L for /mnt/oogergo/eyened/eyened_platform/annotations/macula3/2223757.png, annot_id: 672446\n",
      "Found mode L for /mnt/oogergo/eyened/eyened_platform/annotations/macula3/2228889.png, annot_id: 676569\n",
      "Found mode L for /mnt/oogergo/eyened/eyened_platform/annotations/macula2/2214703.png, annot_id: 173630\n",
      "Found mode L for /mnt/oogergo/eyened/eyened_platform/annotations/macula3/2200850.png, annot_id: 668960\n",
      "Found mode L for /mnt/oogergo/eyened/eyened_platform/annotations/macula2/2215827.png, annot_id: 174440\n",
      "Found mode L for /mnt/oogergo/eyened/eyened_platform/annotations/macula3/2221876.png, annot_id: 672837\n",
      "Found mode L for /mnt/oogergo/eyened/eyened_platform/annotations/macula3/2194546.png, annot_id: 677917\n",
      "Found mode L for /mnt/oogergo/eyened/eyened_platform/annotations/macula3/1228262.png, annot_id: 678178\n",
      "Found mode L for /mnt/oogergo/eyened/eyened_platform/annotations/macula3/2187326.png, annot_id: 677147\n",
      "Found mode L for /mnt/oogergo/eyened/eyened_platform/annotations/macula3/2124056.png, annot_id: 675071\n",
      "Found mode L for /mnt/oogergo/eyened/eyened_platform/annotations/macula3/2219542.png, annot_id: 674171\n",
      "Found mode L for /mnt/oogergo/eyened/eyened_platform/annotations/macula3/2209795.png, annot_id: 669644\n",
      "Found mode L for /mnt/oogergo/eyened/eyened_platform/annotations/macula3/2217609.png, annot_id: 671651\n",
      "Found mode L for /mnt/oogergo/eyened/eyened_platform/annotations/macula3/2225648.png, annot_id: 673062\n",
      "Found mode L for /mnt/oogergo/eyened/eyened_platform/annotations/macula3/2225539.png, annot_id: 672936\n",
      "Found mode L for /mnt/oogergo/eyened/eyened_platform/annotations/macula3/2203945.png, annot_id: 675230\n",
      "Found mode L for /mnt/oogergo/eyened/eyened_platform/annotations/macula2/2214337.png, annot_id: 173400\n",
      "Found mode L for /mnt/oogergo/eyened/eyened_platform/annotations/macula3/2225425.png, annot_id: 672301\n",
      "Found mode L for /mnt/oogergo/eyened/eyened_platform/annotations/macula2/2214483.png, annot_id: 173608\n",
      "Found mode L for /mnt/oogergo/eyened/eyened_platform/annotations/macula3/2209437.png, annot_id: 672043\n",
      "Found mode L for /mnt/oogergo/eyened/eyened_platform/annotations/macula3/2205801.png, annot_id: 668946\n",
      "Found mode L for /mnt/oogergo/eyened/eyened_platform/annotations/macula3/1230454.png, annot_id: 674881\n",
      "Found mode L for /mnt/oogergo/eyened/eyened_platform/annotations/macula2/2214431.png, annot_id: 174069\n",
      "Found mode L for /mnt/oogergo/eyened/eyened_platform/annotations/macula2/2214379.png, annot_id: 173384\n",
      "Found mode L for /mnt/oogergo/eyened/eyened_platform/annotations/macula3/2212195.png, annot_id: 676459\n",
      "Found mode L for /mnt/oogergo/eyened/eyened_platform/annotations/macula3/2218616.png, annot_id: 671199\n",
      "Found mode L for /mnt/oogergo/eyened/eyened_platform/annotations/macula2/2215261.png, annot_id: 174421\n",
      "Found mode L for /mnt/oogergo/eyened/eyened_platform/annotations/macula3/2231376.png, annot_id: 677561\n",
      "Found mode L for /mnt/oogergo/eyened/eyened_platform/annotations/macula3/2197501.png, annot_id: 677167\n",
      "Found mode L for /mnt/oogergo/eyened/eyened_platform/annotations/macula3/2218383.png, annot_id: 670463\n",
      "Found mode L for /mnt/oogergo/eyened/eyened_platform/annotations/macula3/2228997.png, annot_id: 678347\n",
      "Found mode L for /mnt/oogergo/eyened/eyened_platform/annotations/macula3/1232936.png, annot_id: 675292\n",
      "Found mode L for /mnt/oogergo/eyened/eyened_platform/annotations/macula2/2214785.png, annot_id: 173942\n",
      "Found mode L for /mnt/oogergo/eyened/eyened_platform/annotations/macula3/2196265.png, annot_id: 671645\n",
      "Found mode L for /mnt/oogergo/eyened/eyened_platform/annotations/macula2/2214537.png, annot_id: 174132\n",
      "Found mode L for /mnt/oogergo/eyened/eyened_platform/annotations/macula3/2234835.png, annot_id: 670706\n",
      "Found mode L for /mnt/oogergo/eyened/eyened_platform/annotations/macula3/2123797.png, annot_id: 676327\n",
      "Found mode L for /mnt/oogergo/eyened/eyened_platform/annotations/macula3/2225012.png, annot_id: 671360\n",
      "Found mode L for /mnt/oogergo/eyened/eyened_platform/annotations/macula3/2123775.png, annot_id: 674899\n",
      "Found mode L for /mnt/oogergo/eyened/eyened_platform/annotations/macula3/375176.png, annot_id: 669762\n"
     ]
    }
   ],
   "source": [
    "# R/G masks\n",
    "resolutions = []\n",
    "for annot, annot_data, image_instance in get_annotations_with_annotation_type([2,3,5]):\n",
    "    # if annot_data is None\n",
    "    assert annot_data.path.suffix == \".png\", annot_data.path\n",
    "\n",
    "    if image_instance is None:\n",
    "        print(f\"Found image_instance is None for {annot_data.path}, annot_id: {annot.AnnotationID}\")\n",
    "        continue\n",
    "\n",
    "    res_db = (image_instance.Columns_x, image_instance.Rows_y)\n",
    "    resolutions.append(res_db)\n",
    "\n",
    "    im = Image.open(annot_data.path)\n",
    "    rs_im = im.size\n",
    "\n",
    "    if res_db != rs_im:\n",
    "        print(f'Found shape {rs_im} != {res_db} for {annot_data.path}')\n",
    "        continue\n",
    "\n",
    "    if im.mode not in [\"RGB\", \"RGBA\"]:\n",
    "        print(f\"Found mode {im.mode} for {annot_data.path}, annot_id: {annot.AnnotationID}\")\n",
    "        im = im.convert('RGB')\n",
    "\n",
    "    im = np.array(im)\n",
    "    im = im[...,:2] # red and green channels\n",
    "    im = im.reshape(1, im.shape[0], im.shape[1], 1, im.shape[2])\n",
    "    # im = im[...,None,None].astype(np.uint8)\n",
    "\n",
    "    # print(im.shape)\n",
    "    # if len(im.shape) != 4:\n",
    "    #     print(f'Found shape {im.shape} for {annot_data.path}')\n",
    "    #     continue\n",
    "\n",
    "    # annotation_zarr_storage_manager.write('test', im, None)"
   ]
  },
  {
   "cell_type": "code",
   "execution_count": null,
   "metadata": {},
   "outputs": [],
   "source": []
  },
  {
   "cell_type": "code",
   "execution_count": null,
   "metadata": {},
   "outputs": [],
   "source": []
  },
  {
   "cell_type": "code",
   "execution_count": null,
   "metadata": {},
   "outputs": [],
   "source": []
  }
 ],
 "metadata": {
  "kernelspec": {
   "display_name": "viewer",
   "language": "python",
   "name": "python3"
  },
  "language_info": {
   "codemirror_mode": {
    "name": "ipython",
    "version": 3
   },
   "file_extension": ".py",
   "mimetype": "text/x-python",
   "name": "python",
   "nbconvert_exporter": "python",
   "pygments_lexer": "ipython3",
   "version": "3.11.11"
  }
 },
 "nbformat": 4,
 "nbformat_minor": 2
}
